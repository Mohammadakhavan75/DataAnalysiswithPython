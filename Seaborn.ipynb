{
  "nbformat": 4,
  "nbformat_minor": 0,
  "metadata": {
    "colab": {
      "name": "Seaborn.ipynb",
      "provenance": [],
      "collapsed_sections": [],
      "authorship_tag": "ABX9TyNOUe/lmO0aHICPXaoxNTxB",
      "include_colab_link": true
    },
    "kernelspec": {
      "name": "python3",
      "display_name": "Python 3"
    }
  },
  "cells": [
    {
      "cell_type": "markdown",
      "metadata": {
        "id": "view-in-github",
        "colab_type": "text"
      },
      "source": [
        "<a href=\"https://colab.research.google.com/github/Mohammadakhavan75/DataAnalysiswithPython/blob/main/Seaborn.ipynb\" target=\"_parent\"><img src=\"https://colab.research.google.com/assets/colab-badge.svg\" alt=\"Open In Colab\"/></a>"
      ]
    },
    {
      "cell_type": "markdown",
      "metadata": {
        "id": "uNOM4ueOSViB"
      },
      "source": [
        "## **Seaborn**"
      ]
    },
    {
      "cell_type": "markdown",
      "metadata": {
        "id": "xdjf3p_6aClP"
      },
      "source": [
        "Scatter plot"
      ]
    },
    {
      "cell_type": "code",
      "metadata": {
        "id": "on37F27mSUNz"
      },
      "source": [
        "import seaborn as sns"
      ],
      "execution_count": null,
      "outputs": []
    },
    {
      "cell_type": "code",
      "metadata": {
        "id": "D4vzHXBnSrtT"
      },
      "source": [
        "sns.set()"
      ],
      "execution_count": null,
      "outputs": []
    },
    {
      "cell_type": "code",
      "metadata": {
        "id": "xPnB-dhjSsEE"
      },
      "source": [
        "tips = sns.load_dataset(\"tips\")"
      ],
      "execution_count": null,
      "outputs": []
    },
    {
      "cell_type": "code",
      "metadata": {
        "id": "1Ha0DXtXWtAb"
      },
      "source": [
        "tips"
      ],
      "execution_count": null,
      "outputs": []
    },
    {
      "cell_type": "code",
      "metadata": {
        "id": "8WcBAOc5S2CV"
      },
      "source": [
        "ax = sns.scatterplot(x=\"total_bill\", y=\"tip\", data=tips)"
      ],
      "execution_count": null,
      "outputs": []
    },
    {
      "cell_type": "code",
      "metadata": {
        "id": "2BaBeIKfXECv"
      },
      "source": [
        "ax = sns.scatterplot(x=\"total_bill\", y=\"tip\", data=tips, hue=\"time\", size=\"time\")"
      ],
      "execution_count": null,
      "outputs": []
    },
    {
      "cell_type": "code",
      "metadata": {
        "id": "V6T2UxAnYDY9"
      },
      "source": [
        "ax = sns.scatterplot(x=\"total_bill\", y=\"tip\", data=tips, hue=\"size\", size=\"size\", sizes=(20, 200))"
      ],
      "execution_count": null,
      "outputs": []
    },
    {
      "cell_type": "code",
      "metadata": {
        "id": "uA0qojiKXsQP"
      },
      "source": [
        "ax = sns.scatterplot(x=\"total_bill\", y=\"tip\", data=tips, hue=\"time\", style=\"time\")"
      ],
      "execution_count": null,
      "outputs": []
    },
    {
      "cell_type": "code",
      "metadata": {
        "id": "g2sQBv5yYZ9x"
      },
      "source": [
        "iris = sns.load_dataset(\"iris\")\n",
        "ax = sns.scatterplot(x=iris.sepal_length, y=iris.sepal_width, hue=iris.species, style=iris.species)"
      ],
      "execution_count": null,
      "outputs": []
    },
    {
      "cell_type": "markdown",
      "metadata": {
        "id": "04gj1rjAaaY7"
      },
      "source": [
        "Line plot"
      ]
    },
    {
      "cell_type": "code",
      "metadata": {
        "id": "nErJ-17caBCW"
      },
      "source": [
        "fmri = sns.load_dataset(\"fmri\")"
      ],
      "execution_count": null,
      "outputs": []
    },
    {
      "cell_type": "code",
      "metadata": {
        "id": "c87gZB_cai0F"
      },
      "source": [
        "fmri"
      ],
      "execution_count": null,
      "outputs": []
    },
    {
      "cell_type": "code",
      "metadata": {
        "id": "4KQGvzYCacMW"
      },
      "source": [
        "ax = sns.lineplot(x=\"timepoint\", y=\"signal\", data=fmri)"
      ],
      "execution_count": null,
      "outputs": []
    },
    {
      "cell_type": "code",
      "metadata": {
        "id": "nBmdMOzdbOeq"
      },
      "source": [
        "ax = sns.lineplot(x=\"timepoint\", y=\"signal\", hue=\"event\", data=fmri)"
      ],
      "execution_count": null,
      "outputs": []
    },
    {
      "cell_type": "code",
      "metadata": {
        "id": "0x70nR73bz2C"
      },
      "source": [
        "ax = sns.lineplot(x=\"timepoint\", y=\"signal\", hue=\"event\", style=\"event\", data=fmri)"
      ],
      "execution_count": null,
      "outputs": []
    },
    {
      "cell_type": "code",
      "metadata": {
        "id": "OT1NPlvKcKsL"
      },
      "source": [
        "ax = sns.lineplot(x=\"timepoint\", y=\"signal\", hue=\"region\", style=\"event\", data=fmri)"
      ],
      "execution_count": null,
      "outputs": []
    },
    {
      "cell_type": "code",
      "metadata": {
        "id": "mDPow0n8cQpS"
      },
      "source": [
        "ax = sns.lineplot(x=\"timepoint\", y=\"signal\", hue=\"event\", style=\"event\", markers=True, dashes=False, data=fmri)"
      ],
      "execution_count": null,
      "outputs": []
    },
    {
      "cell_type": "code",
      "metadata": {
        "id": "26tHl7I6cugb"
      },
      "source": [
        "dots = sns.load_dataset(\"dots\").query(\"align == 'dots'\")"
      ],
      "execution_count": null,
      "outputs": []
    },
    {
      "cell_type": "code",
      "metadata": {
        "id": "NLz8MT3FcyhO"
      },
      "source": [
        "dots"
      ],
      "execution_count": null,
      "outputs": []
    },
    {
      "cell_type": "code",
      "metadata": {
        "id": "CmG4vFJkcxsN"
      },
      "source": [
        "ax = sns.lineplot(x=\"time\", y=\"firing_rate\", hue=\"coherence\", style=\"choice\", data=dots)"
      ],
      "execution_count": null,
      "outputs": []
    },
    {
      "cell_type": "code",
      "metadata": {
        "id": "F64MHLayd8h9"
      },
      "source": [
        "palette = sns.color_palette(\"mako_r\", 6)\n",
        "ax = sns.lineplot(x=\"time\", y=\"firing_rate\", hue=\"coherence\", style=\"choice\", palette=palette, data=dots)"
      ],
      "execution_count": null,
      "outputs": []
    },
    {
      "cell_type": "code",
      "metadata": {
        "id": "4FHXfzaIeuUU"
      },
      "source": [
        "import numpy as np, pandas as pd\n",
        "index = pd.date_range(\"1 1 2000\", periods=100, freq=\"m\", name=\"date\")\n",
        "data = np.random.randn(100, 4).cumsum(axis=0)\n",
        "wide_df = pd.DataFrame(data, index, [\"a\", \"b\", \"c\", \"d\"])\n",
        "ax = sns.lineplot(data=wide_df)"
      ],
      "execution_count": null,
      "outputs": []
    },
    {
      "cell_type": "markdown",
      "metadata": {
        "id": "8we0V5fKfF1I"
      },
      "source": [
        "Histogram"
      ]
    },
    {
      "cell_type": "code",
      "metadata": {
        "id": "hP9ph19lfIEk"
      },
      "source": [
        "# distribution plot\n",
        "x = np.random.normal(size=100)\n",
        "sns.distplot(x);"
      ],
      "execution_count": null,
      "outputs": []
    },
    {
      "cell_type": "code",
      "metadata": {
        "id": "O_laP8l9fQAy"
      },
      "source": [
        "sns.distplot(x, kde=False)"
      ],
      "execution_count": null,
      "outputs": []
    },
    {
      "cell_type": "code",
      "metadata": {
        "id": "uE-6O4z8fjFP"
      },
      "source": [
        "sns.distplot(x, hist=False)"
      ],
      "execution_count": null,
      "outputs": []
    },
    {
      "cell_type": "code",
      "metadata": {
        "id": "KmGL6Re8fsJO"
      },
      "source": [
        "sns.distplot(x, bins=20, kde=False)"
      ],
      "execution_count": null,
      "outputs": []
    },
    {
      "cell_type": "code",
      "metadata": {
        "id": "SSqDel_-gF6O"
      },
      "source": [
        "mean, cov = [0, 1], [(1, .5), (.5, 1)]\n",
        "data = np.random.multivariate_normal(mean, cov, 200)\n",
        "df = pd.DataFrame(data, columns=[\"x\", \"y\"])"
      ],
      "execution_count": null,
      "outputs": []
    },
    {
      "cell_type": "code",
      "metadata": {
        "id": "9lucfrQ8gKIO"
      },
      "source": [
        "sns.jointplot(x=\"x\", y=\"y\", data=df)"
      ],
      "execution_count": null,
      "outputs": []
    },
    {
      "cell_type": "code",
      "metadata": {
        "id": "fwwvTOpIgQF6"
      },
      "source": [
        "x, y = np.random.multivariate_normal(mean, cov, 1000).T\n",
        "with sns.axes_style(\"white\"):\n",
        "    sns.jointplot(x=x, y=y, kind=\"hex\", color=\"k\")"
      ],
      "execution_count": null,
      "outputs": []
    },
    {
      "cell_type": "code",
      "metadata": {
        "id": "JNTwiE2zg_e5"
      },
      "source": [
        "sns.jointplot(x=x, y=y, kind=\"kde\", color=\"k\");"
      ],
      "execution_count": null,
      "outputs": []
    },
    {
      "cell_type": "code",
      "metadata": {
        "id": "DP6HYtTfhX-2"
      },
      "source": [
        "iris = sns.load_dataset(\"iris\")\n",
        "sns.pairplot(iris);"
      ],
      "execution_count": null,
      "outputs": []
    },
    {
      "cell_type": "code",
      "metadata": {
        "id": "-lr2wY9mhbTO"
      },
      "source": [
        "sns.pairplot(iris, hue=\"species\")"
      ],
      "execution_count": null,
      "outputs": []
    },
    {
      "cell_type": "code",
      "metadata": {
        "id": "f5iat-55hqVi"
      },
      "source": [
        "ax = sns.barplot(x=\"day\", y=\"total_bill\", data=tips)"
      ],
      "execution_count": null,
      "outputs": []
    },
    {
      "cell_type": "code",
      "metadata": {
        "id": "CwJFqiS4hwX-"
      },
      "source": [
        "ax = sns.barplot(x=\"day\", y=\"total_bill\", hue=\"sex\", data=tips)"
      ],
      "execution_count": null,
      "outputs": []
    },
    {
      "cell_type": "code",
      "metadata": {
        "id": "SmXr82jgiB-Z"
      },
      "source": [
        "uniform_data = np.random.rand(10, 12)\n",
        "ax = sns.heatmap(uniform_data)"
      ],
      "execution_count": null,
      "outputs": []
    },
    {
      "cell_type": "code",
      "metadata": {
        "id": "08jXfvt8iHfX"
      },
      "source": [
        "ax = sns.heatmap(uniform_data, vmin=0, vmax=1)"
      ],
      "execution_count": null,
      "outputs": []
    },
    {
      "cell_type": "code",
      "metadata": {
        "id": "i9qKj-LKidnu"
      },
      "source": [
        "flights = sns.load_dataset(\"flights\")"
      ],
      "execution_count": null,
      "outputs": []
    },
    {
      "cell_type": "code",
      "metadata": {
        "id": "jwp9jsR4ifxB"
      },
      "source": [
        "flights"
      ],
      "execution_count": null,
      "outputs": []
    },
    {
      "cell_type": "code",
      "metadata": {
        "id": "zMdLaoT5ig_t"
      },
      "source": [
        "flights = flights.pivot(\"month\", \"year\", \"passengers\")"
      ],
      "execution_count": null,
      "outputs": []
    },
    {
      "cell_type": "code",
      "metadata": {
        "id": "FNivEdv2ijck"
      },
      "source": [
        "flights"
      ],
      "execution_count": null,
      "outputs": []
    },
    {
      "cell_type": "code",
      "metadata": {
        "id": "TgW6erGHiR13"
      },
      "source": [
        "ax = sns.heatmap(flights)"
      ],
      "execution_count": null,
      "outputs": []
    },
    {
      "cell_type": "code",
      "metadata": {
        "id": "uCzHHlM7iUwG"
      },
      "source": [
        "ax = sns.heatmap(flights, annot=True, fmt=\"d\")"
      ],
      "execution_count": null,
      "outputs": []
    },
    {
      "cell_type": "code",
      "metadata": {
        "id": "QpJFzMF9ixOG"
      },
      "source": [
        "ax = sns.boxplot(x=tips[\"total_bill\"])"
      ],
      "execution_count": null,
      "outputs": []
    },
    {
      "cell_type": "code",
      "metadata": {
        "id": "CzQEHsrzjNGx"
      },
      "source": [
        "ax = sns.boxplot(x=\"day\", y=\"total_bill\", data=tips)"
      ],
      "execution_count": null,
      "outputs": []
    }
  ]
}