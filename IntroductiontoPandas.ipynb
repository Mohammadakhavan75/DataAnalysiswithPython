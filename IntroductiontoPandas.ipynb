{
  "nbformat": 4,
  "nbformat_minor": 0,
  "metadata": {
    "colab": {
      "name": "IntroductiontoPandas.ipynb",
      "provenance": [],
      "collapsed_sections": [],
      "authorship_tag": "ABX9TyP58xfCPJsDBDpDNAp5Sf0p",
      "include_colab_link": true
    },
    "kernelspec": {
      "name": "python3",
      "display_name": "Python 3"
    }
  },
  "cells": [
    {
      "cell_type": "markdown",
      "metadata": {
        "id": "view-in-github",
        "colab_type": "text"
      },
      "source": [
        "<a href=\"https://colab.research.google.com/github/Mohammadakhavan75/DataAnalysiswithPython/blob/main/IntroductiontoPandas.ipynb\" target=\"_parent\"><img src=\"https://colab.research.google.com/assets/colab-badge.svg\" alt=\"Open In Colab\"/></a>"
      ]
    },
    {
      "cell_type": "code",
      "metadata": {
        "id": "b0d3uaJjgzNi"
      },
      "source": [
        "pip install pandas"
      ],
      "execution_count": null,
      "outputs": []
    },
    {
      "cell_type": "code",
      "metadata": {
        "id": "7qhANDNneXtx"
      },
      "source": [
        "import pandas as pd\n",
        "import numpy as np"
      ],
      "execution_count": null,
      "outputs": []
    },
    {
      "cell_type": "markdown",
      "metadata": {
        "id": "5uQJZY-AeyI3"
      },
      "source": [
        "Pandas Series"
      ]
    },
    {
      "cell_type": "code",
      "metadata": {
        "id": "zBA_mTyPefgr"
      },
      "source": [
        "# Creating empty series  \n",
        "ser = pd.Series()  \n",
        "    \n",
        "print(ser)  \n",
        "  \n",
        "# simple array  \n",
        "data = np.array(['g', 'e', 'e', 'k', 's'])  \n",
        "    \n",
        "ser = pd.Series(data)  \n",
        "print(ser) "
      ],
      "execution_count": null,
      "outputs": []
    },
    {
      "cell_type": "markdown",
      "metadata": {
        "id": "DFW2oORtgfc2"
      },
      "source": [
        "Pandas DataFrame"
      ]
    },
    {
      "cell_type": "code",
      "metadata": {
        "id": "U7A-CSKmefdV"
      },
      "source": [
        "df = pd.DataFrame()  \n",
        "print(df) \n",
        "  \n",
        "# list of strings  \n",
        "lst = ['Geeks', 'For', 'Geeks', 'is',   \n",
        "            'portal', 'for', 'Geeks']  \n",
        "    \n",
        "# Calling DataFrame constructor on list  \n",
        "df = pd.DataFrame(lst)  \n",
        "print(df)  "
      ],
      "execution_count": null,
      "outputs": []
    },
    {
      "cell_type": "code",
      "metadata": {
        "id": "YdC2arQdefcG"
      },
      "source": [
        "data = {'Name':['Tom', 'nick', 'krish', 'jack'],\n",
        "        'Age':[20, 21, 19, 18]}\n",
        " \n",
        "# Create DataFrame\n",
        "df = pd.DataFrame(data)\n",
        " \n",
        "# Print the output.\n",
        "print(df)"
      ],
      "execution_count": null,
      "outputs": []
    },
    {
      "cell_type": "code",
      "metadata": {
        "id": "nU11EwJGefX2"
      },
      "source": [
        "# Define a dictionary containing employee data\n",
        "data = {'Name':['Jai', 'Princi', 'Gaurav', 'Anuj'],\n",
        "        'Age':[27, 24, 22, 32],\n",
        "        'Address':['Delhi', 'Kanpur', 'Allahabad', 'Kannauj'],\n",
        "        'Qualification':['Msc', 'MA', 'MCA', 'Phd']}\n",
        " \n",
        "# Convert the dictionary into DataFrame \n",
        "df = pd.DataFrame(data)\n",
        " \n",
        "# select two columns\n",
        "print(df[['Name', 'Qualification']])"
      ],
      "execution_count": null,
      "outputs": []
    },
    {
      "cell_type": "code",
      "metadata": {
        "id": "6YPes6P9efVG"
      },
      "source": [
        "!wget https://media.geeksforgeeks.org/wp-content/uploads/nba.csv"
      ],
      "execution_count": null,
      "outputs": []
    },
    {
      "cell_type": "code",
      "metadata": {
        "id": "O6x6bfvzefSI"
      },
      "source": [
        "# making data frame from csv file\n",
        "data = pd.read_csv(\"nba.csv\", index_col =\"Name\")\n",
        " \n",
        "# retrieving row by loc method\n",
        "first = data.loc[\"Avery Bradley\"]\n",
        "second = data.loc[\"R.J. Hunter\"]\n",
        "\n",
        "print(first, \"\\n\\n\\n\", second)"
      ],
      "execution_count": null,
      "outputs": []
    },
    {
      "cell_type": "code",
      "metadata": {
        "id": "Z1l7DdlnefPh"
      },
      "source": [
        "# making data frame from csv file\n",
        "data = pd.read_csv(\"nba.csv\", index_col =\"Name\")\n",
        " \n",
        "# retrieving columns by indexing operator\n",
        "first = data[\"Age\"]\n",
        " \n",
        "print(first)"
      ],
      "execution_count": null,
      "outputs": []
    },
    {
      "cell_type": "code",
      "metadata": {
        "id": "kPfeVLTZefMv"
      },
      "source": [
        "# making data frame from csv file\n",
        "data = pd.read_csv(\"nba.csv\", index_col =\"Name\")\n",
        "\n",
        "# retrieving rows by iloc method \n",
        "row2 = data.iloc[3] \n",
        "\n",
        "print(row2)"
      ],
      "execution_count": null,
      "outputs": []
    },
    {
      "cell_type": "code",
      "metadata": {
        "id": "nFurNYXuefJ4"
      },
      "source": [
        "# dictionary of lists\n",
        "dict = {'First Score':[100, 90, np.nan, 95],\n",
        "        'Second Score': [30, 45, 56, np.nan],\n",
        "        'Third Score':[np.nan, 40, 80, 98]}\n",
        " \n",
        "# creating a dataframe from list\n",
        "df = pd.DataFrame(dict)\n",
        " \n",
        "# using isnull() function  \n",
        "df.isnull()"
      ],
      "execution_count": null,
      "outputs": []
    },
    {
      "cell_type": "code",
      "metadata": {
        "id": "g6e5DfdyefHM"
      },
      "source": [
        "# dictionary of lists\n",
        "dict = {'First Score':[100, 90, np.nan, 95],\n",
        "        'Second Score': [30, 45, 56, np.nan],\n",
        "        'Third Score':[np.nan, 40, 80, 98]}\n",
        " \n",
        "# creating a dataframe from dictionary\n",
        "df = pd.DataFrame(dict)\n",
        " \n",
        "# filling missing value using fillna()  \n",
        "df.fillna(0)"
      ],
      "execution_count": null,
      "outputs": []
    },
    {
      "cell_type": "code",
      "metadata": {
        "id": "nBPIH3ziefEC"
      },
      "source": [
        "# making data frame \n",
        "data = pd.read_csv(\"https://media.geeksforgeeks.org/wp-content/uploads/nba.csv\") \n",
        "data = pd.read_csv(nba.csv) \n",
        "# calling head() method  \n",
        "# storing in new variable \n",
        "print(data.head())\n",
        "print(data.tail())"
      ],
      "execution_count": null,
      "outputs": []
    },
    {
      "cell_type": "code",
      "metadata": {
        "id": "fwyZTFIlefCj"
      },
      "source": [
        "# number of rows to return \n",
        "n = 12\n",
        "  \n",
        "# creating series \n",
        "series = data[\"Salary\"] \n",
        "  \n",
        "# returning top n rows \n",
        "series.tail(n = n) "
      ],
      "execution_count": null,
      "outputs": []
    },
    {
      "cell_type": "code",
      "metadata": {
        "id": "jZ19U3tiee-w"
      },
      "source": [
        "# removing null values to avoid errors  \n",
        "data.dropna(inplace = True)  \n",
        "  \n",
        "# calling describe method \n",
        "data[\"Name\"].describe() "
      ],
      "execution_count": null,
      "outputs": []
    },
    {
      "cell_type": "code",
      "metadata": {
        "id": "Gz36S56Aee7w"
      },
      "source": [
        "# creating DataFrame form weight column \n",
        "gfg = pd.DataFrame(data['Weight'].head()) \n",
        "   \n",
        "# providing dtype \n",
        "print(gfg.to_numpy(dtype ='float32')) "
      ],
      "execution_count": null,
      "outputs": []
    },
    {
      "cell_type": "code",
      "metadata": {
        "id": "y0BNFXAcee5B"
      },
      "source": [
        "# Creating the Series \n",
        "sr = pd.Series([11, 21, 8, 18, 65, 18, 32, 10, 5, 32, None]) \n",
        "  \n",
        "# Create the Index \n",
        "# apply yearly frequency \n",
        "index_ = pd.date_range('2010-10-09 08:45', periods = 11, freq ='Y') \n",
        "  \n",
        "# set the index \n",
        "sr.index = index_ \n",
        "  \n",
        "# Print the series \n",
        "print(sr) "
      ],
      "execution_count": null,
      "outputs": []
    },
    {
      "cell_type": "code",
      "metadata": {
        "id": "OxNx7jXFee2f"
      },
      "source": [
        "# return numpy array representation \n",
        "result = sr.as_matrix() \n",
        "  \n",
        "# Print the result \n",
        "print(result)"
      ],
      "execution_count": null,
      "outputs": []
    },
    {
      "cell_type": "code",
      "metadata": {
        "id": "L1pODNIsee0w"
      },
      "source": [
        "data = pd.read_csv(\"nba.csv\") \n",
        "\n",
        "df = pd.DataFrame(data) \n",
        "   \n",
        "# converting and overwriting values in column \n",
        "print(df[\"Name\"].str.lower())"
      ],
      "execution_count": null,
      "outputs": []
    },
    {
      "cell_type": "code",
      "metadata": {
        "id": "lHzRfFebeexW"
      },
      "source": [
        "# importing pandas module  \n",
        "import pandas as pd \n",
        "     \n",
        "# Define a dictionary containing employee data \n",
        "data = {'Name':['Jai', 'Princi', 'Gaurav', 'Anuj'], \n",
        "        'Age':[27, 24, 22, 32], \n",
        "        'Address':['Nagpur', 'Kanpur', 'Allahabad', 'Knnuaj'], \n",
        "        'Qualification':['Msc', 'MA', 'MCA', 'Phd']} \n",
        " \n",
        "# Convert the dictionary into DataFrame  \n",
        "df = pd.DataFrame(data) \n",
        "    \n",
        "# dropping null value columns to avoid errors \n",
        "df.dropna(inplace = True) \n",
        "    \n",
        "# new data frame with split value columns \n",
        "df[\"Address\"]= df[\"Address\"].str.split(\"a\", n = 1, expand = True) \n",
        "   \n",
        "# df display \n",
        "print(df)"
      ],
      "execution_count": null,
      "outputs": []
    },
    {
      "cell_type": "code",
      "metadata": {
        "id": "a6zuH4vSeev-"
      },
      "source": [
        "# importing pandas module \n",
        "import pandas as pd\n",
        " \n",
        "# reading csv file from url\n",
        "data = pd.read_csv(\"nba.csv\")\n",
        " \n",
        "# overwriting column with replaced value of age\n",
        "data[\"Age\"]= data[\"Age\"].replace(25.0, \"Twenty five\")\n",
        " \n",
        "# creating a filter for age column \n",
        "# where age = \"Twenty five\"\n",
        "filter = data[\"Age\"]==\"Twenty five\"\n",
        " \n",
        "# printing only filtered columns\n",
        "data.where(filter).dropna()"
      ],
      "execution_count": null,
      "outputs": []
    },
    {
      "cell_type": "code",
      "metadata": {
        "id": "igeEIIh4eesP"
      },
      "source": [
        "# Import the excel file and call it xls_file \n",
        "excel_file = pd.ExcelFile('pandasEx.xlsx') \n",
        "  \n",
        "# View the excel_file's sheet names \n",
        "print(excel_file.sheet_names) \n",
        "  \n",
        "# Load the excel_file's Sheet1 as a dataframe \n",
        "df = excel_file.parse('Sheet1') \n",
        "print(df) "
      ],
      "execution_count": null,
      "outputs": []
    },
    {
      "cell_type": "code",
      "metadata": {
        "id": "telWHKwMeeqG"
      },
      "source": [
        "# making data frame  \n",
        "data = pd.read_csv(\"nba.csv\")  \n",
        "  \n",
        "# iterating the columns \n",
        "for col in data.columns: \n",
        "    print(col)\n"
      ],
      "execution_count": null,
      "outputs": []
    },
    {
      "cell_type": "code",
      "metadata": {
        "id": "pxTpNZC_eenj"
      },
      "source": [
        "print(data.columns)"
      ],
      "execution_count": null,
      "outputs": []
    },
    {
      "cell_type": "code",
      "metadata": {
        "id": "QDv8RUfceek3"
      },
      "source": [
        "# list of name, degree, score \n",
        "nme = [\"aparna\", \"pankaj\", \"sudhir\", \"Geeku\"] \n",
        "deg = [\"MBA\", \"BCA\", \"M.Tech\", \"MBA\"] \n",
        "scr = [90, 40, 80, 98] \n",
        "   \n",
        "# dictionary of lists  \n",
        "dict = {'name': nme, 'degree': deg, 'score': scr}  \n",
        "     \n",
        "df = pd.DataFrame(dict) \n",
        "  \n",
        "# saving the dataframe \n",
        "df.to_csv('file1.csv') "
      ],
      "execution_count": null,
      "outputs": []
    },
    {
      "cell_type": "code",
      "metadata": {
        "id": "D0EtNMTueeiU"
      },
      "source": [
        "df.to_csv('file1.csv', index=False) "
      ],
      "execution_count": null,
      "outputs": []
    },
    {
      "cell_type": "code",
      "metadata": {
        "id": "ifUf0UyVeeWf"
      },
      "source": [
        "# making data frame from csv file  \n",
        "data = pd.read_csv(\"nba.csv\") \n",
        "  \n",
        "# retrieving rows by loc method  \n",
        "row1 = data.loc[3] \n",
        "  \n",
        "# retrieving rows by iloc method \n",
        "row2 = data.iloc[3] \n",
        "  \n",
        "# checking if values are equal \n",
        "row1 == row2 "
      ],
      "execution_count": null,
      "outputs": []
    },
    {
      "cell_type": "code",
      "metadata": {
        "id": "qkckbUACoWzM"
      },
      "source": [
        "# making data frame from csv file \n",
        "data = pd.read_csv(\"nba.csv\", index_col =\"Name\") \n",
        "  \n",
        "  \n",
        "# retrieving all rows and some columns by iloc method  \n",
        "row2 = data.iloc [:, [1, 2]]"
      ],
      "execution_count": null,
      "outputs": []
    },
    {
      "cell_type": "code",
      "metadata": {
        "id": "kdfWbUmbiM7k"
      },
      "source": [
        "def main(): \n",
        "      \n",
        "    # create a dictionary with \n",
        "    # five fields each \n",
        "    data = { \n",
        "            'A':[1, 2, 3],  \n",
        "            'B':[4, 5, 6],  \n",
        "            'C':[7, 8, 9] } \n",
        "      \n",
        "    # Convert the dictionary into DataFrame  \n",
        "    df = pd.DataFrame(data) \n",
        "    print(\"Original DataFrame:\\n\", df) \n",
        "      \n",
        "    # applying function to each row in the dataframe \n",
        "    # and storing result in a new coloumn \n",
        "    df['add'] = df.apply(np.sum, axis = 1) \n",
        "   \n",
        "    print('\\nAfter Applying Function: ') \n",
        "    # printing the new dataframe \n",
        "    print(df) \n",
        "   \n",
        "if __name__ == '__main__': \n",
        "    main() "
      ],
      "execution_count": null,
      "outputs": []
    },
    {
      "cell_type": "code",
      "metadata": {
        "id": "roKv8aHnigOG"
      },
      "source": [
        "# making data frame from csv file \n",
        "df = pd.read_csv(\"nba.csv\") \n",
        "  \n",
        "# We are going to find aggregation for these columns \n",
        "df.aggregate({\"Number\":['sum', 'min'], \n",
        "              \"Age\":['max', 'min'], \n",
        "              \"Weight\":['min', 'sum'],  \n",
        "              \"Salary\":['sum']}) "
      ],
      "execution_count": null,
      "outputs": []
    }
  ]
}